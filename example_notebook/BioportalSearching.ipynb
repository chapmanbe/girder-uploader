{
 "cells": [
  {
   "cell_type": "code",
   "execution_count": null,
   "metadata": {
    "collapsed": false
   },
   "outputs": [],
   "source": [
    "from girder_uploader.girderUploader import GirderUploader"
   ]
  },
  {
   "cell_type": "code",
   "execution_count": null,
   "metadata": {
    "collapsed": false,
    "scrolled": true
   },
   "outputs": [],
   "source": [
    "# Specify the API URL of your Girder instance\n",
    "girder_api_url = 'http://localhost:8080/api/v1/'\n",
    "\n",
    "# Specify the path to the file or folder you wish to upload\n",
    "local_path = '/Users/stuartnelson/Downloads/DICOMSlices'\n",
    "\n",
    "# Specify the unix style path to where you want the file\n",
    "# on girder. Unix path starting with either \"/user/[user name]\", \n",
    "# for a user's resources or \"/collection/[collection name]\",\n",
    "# for resources under a collection.\n",
    "girder_dest_path = 'collection/c'\n",
    "\n",
    "# Provide girder username and password\n",
    "username = 'test'\n",
    "password = '123456'\n",
    "\n",
    "gu = GirderUploader(girder_api_url, username, password)\n",
    "\n",
    "# In this example, we wish to require the user to provide 'Anatomical Region'\n",
    "# metadata, and we want to restrict the bioportal search to the UBERON ontology.\n",
    "gu.request_metadata('Anatomical Region', ['UBERON'], require=True)\n",
    "\n",
    "# We also want to request 'Disease' metadata, restricting the bioportal search\n",
    "# to the DOID ontology, but we do not require this metadata for uploading. \n",
    "gu.request_metadata('Disease', ['DOID'])\n",
    "\n",
    "# A call to upload_folder creates the widgets and waits for the submit button to\n",
    "# be clicked before uploading to girder.\n",
    "gu.upload_folder(girder_dest_path, local_path)"
   ]
  },
  {
   "cell_type": "code",
   "execution_count": null,
   "metadata": {
    "collapsed": true
   },
   "outputs": [],
   "source": []
  }
 ],
 "metadata": {
  "kernelspec": {
   "display_name": "Python 3",
   "language": "python",
   "name": "python3"
  },
  "language_info": {
   "codemirror_mode": {
    "name": "ipython",
    "version": 3
   },
   "file_extension": ".py",
   "mimetype": "text/x-python",
   "name": "python",
   "nbconvert_exporter": "python",
   "pygments_lexer": "ipython3",
   "version": "3.5.2"
  }
 },
 "nbformat": 4,
 "nbformat_minor": 0
}
