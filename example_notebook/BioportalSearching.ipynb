{
 "cells": [
  {
   "cell_type": "code",
   "execution_count": 1,
   "metadata": {
    "collapsed": false
   },
   "outputs": [],
   "source": [
    "from girderUploader import GirderUploader"
   ]
  },
  {
   "cell_type": "code",
   "execution_count": 2,
   "metadata": {
    "collapsed": false
   },
   "outputs": [],
   "source": [
    "# girder_api_url = 'http://192.168.99.100:8080/api/v1/'\n",
    "girder_api_url = 'http://localhost:8080/api/v1/'\n",
    "local_path = '/Users/stuartnelson/Downloads/DICOMSlices'\n",
    "girder_dest_path = 'collection/c'\n",
    "username = 'test'\n",
    "password = '123456'\n",
    "\n",
    "gu = GirderUploader(girder_api_url, username, password)\n",
    "gu.request_metadata('Anatomical Region', ['UBERON'], require=True)\n",
    "gu.request_metadata('Disease', ['DOID'])\n",
    "gu.upload_folder(girder_dest_path, local_path)"
   ]
  },
  {
   "cell_type": "code",
   "execution_count": null,
   "metadata": {
    "collapsed": false
   },
   "outputs": [],
   "source": []
  },
  {
   "cell_type": "code",
   "execution_count": null,
   "metadata": {
    "collapsed": true
   },
   "outputs": [],
   "source": []
  }
 ],
 "metadata": {
  "kernelspec": {
   "display_name": "Python 3",
   "language": "python",
   "name": "python3"
  },
  "language_info": {
   "codemirror_mode": {
    "name": "ipython",
    "version": 3
   },
   "file_extension": ".py",
   "mimetype": "text/x-python",
   "name": "python",
   "nbconvert_exporter": "python",
   "pygments_lexer": "ipython3",
   "version": "3.5.2"
  }
 },
 "nbformat": 4,
 "nbformat_minor": 0
}
