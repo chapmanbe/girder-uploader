{
 "cells": [
  {
   "cell_type": "code",
   "execution_count": null,
   "metadata": {
    "collapsed": false
   },
   "outputs": [],
   "source": [
    "from girder_uploader.girderUploader import GirderUploader"
   ]
  },
  {
   "cell_type": "code",
   "execution_count": null,
   "metadata": {
    "collapsed": false,
    "scrolled": true
   },
   "outputs": [],
   "source": [
    "# Specify the API URL of your Girder instance\n",
    "girder_api_url = 'http://localhost:8080/api/v1/'\n",
    "\n",
    "# Specify the path to the file or folder you wish to upload\n",
    "local_path = '/Users/stuartnelson/Downloads/DICOMSlices'\n",
    "\n",
    "# Specify the unix style path to where you want the file\n",
    "# on girder. Unix path starting with either \"/user/[user name]\", \n",
    "# for a user's resources or \"/collection/[collection name]\",\n",
    "# for resources under a collection.\n",
    "girder_dest_path = 'collection/c'\n",
    "\n",
    "# Provide girder username and password\n",
    "username = 'test'\n",
    "password = '123456'\n",
    "\n",
    "gu = GirderUploader(girder_api_url, username, password)\n",
    "\n",
    "# In this example, we wish to require the user to provide 'Anatomical Region'\n",
    "# metadata, and we want to restrict the bioportal search to the UBERON ontology.\n",
    "gu.request_metadata('Anatomical Region', ['UBERON'], require=True)\n",
    "\n",
    "# We also want to request 'Disease' metadata, restricting the bioportal search\n",
    "# to the DOID ontology, but we do not require this metadata for uploading. \n",
    "gu.request_metadata('Disease', ['DOID'])\n",
    "\n",
    "# A call to upload_folder creates the widgets and waits for the submit button to\n",
    "# be clicked before uploading to girder.\n",
    "gu.upload_folder(girder_dest_path, local_path)"
   ]
  },
  {
   "cell_type": "code",
   "execution_count": null,
   "metadata": {
    "collapsed": true
   },
   "outputs": [],
   "source": []
  }
 ],
 "metadata": {
  "kernelspec": {
   "display_name": "Python 3",
   "language": "python",
   "name": "python3"
  },
  "language_info": {
   "codemirror_mode": {
    "name": "ipython",
    "version": 3
   },
   "file_extension": ".py",
   "mimetype": "text/x-python",
   "name": "python",
   "nbconvert_exporter": "python",
   "pygments_lexer": "ipython3",
   "version": "3.5.2"
  },
  "widgets": {
   "state": {
    "263c0a30730c4d319c1c87b71f3f0270": {
     "views": [
      {
       "cell_index": 1
      }
     ]
    },
    "4f5d4de2acde447081905c3423fbd16b": {
     "views": [
      {
       "cell_index": 1
      }
     ]
    },
    "708451cda7564e2a814f0644f27c7971": {
     "views": [
      {
       "cell_index": 1
      }
     ]
    },
    "8c16642bf45c4cbe99e397424a270283": {
     "views": [
      {
       "cell_index": 1
      }
     ]
    },
    "8fef9308ab4643c5993055797c9a31b4": {
     "views": [
      {
       "cell_index": 1
      }
     ]
    },
    "d1ca425bcb724e7388dd8cde91b57902": {
     "views": [
      {
       "cell_index": 1
      }
     ]
    },
    "e1af92465406425598024e3ad6ad9845": {
     "views": [
      {
       "cell_index": 1
      }
     ]
    },
    "ec11a9e7d62f4a019fb0851314fe7de7": {
     "views": [
      {
       "cell_index": 1
      }
     ]
    },
    "ed3782cb216a473a95451659a695250c": {
     "views": [
      {
       "cell_index": 1
      }
     ]
    }
   },
   "version": "1.2.0"
  }
 },
 "nbformat": 4,
 "nbformat_minor": 0
}
