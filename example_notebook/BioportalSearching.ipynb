{
 "cells": [
  {
   "cell_type": "code",
   "execution_count": 8,
   "metadata": {
    "collapsed": false
   },
   "outputs": [],
   "source": [
    "from girder_uploader.girderUploader import GirderUploader"
   ]
  },
  {
   "cell_type": "code",
   "execution_count": 9,
   "metadata": {
    "collapsed": false,
    "scrolled": true
   },
   "outputs": [
    {
     "name": "stdout",
     "output_type": "stream",
     "text": [
      "Creating Folder from /Users/stuartnelson/Downloads/DICOMSlices\n",
      "Uploading Item from IM-0011-0001.dcm\n",
      "Uploading Item from IM-0011-0002.dcm\n",
      "Uploading Item from IM-0011-0003.dcm\n",
      "Uploading Item from IM-0011-0004.dcm\n",
      "Uploading Item from IM-0011-0005.dcm\n",
      "Uploading Item from IM-0011-0006.dcm\n",
      "Uploading Item from IM-0011-0007.dcm\n",
      "Uploading Item from IM-0011-0008.dcm\n",
      "Uploading Item from IM-0011-0009.dcm\n",
      "Uploading Item from IM-0011-0010.dcm\n",
      "Uploading Item from IM-0011-0011.dcm\n",
      "Uploading Item from IM-0011-0012.dcm\n",
      "Uploading Item from IM-0011-0013.dcm\n",
      "Uploading Item from IM-0011-0014.dcm\n",
      "Uploading Item from IM-0011-0015.dcm\n",
      "Uploading Item from IM-0011-0016.dcm\n",
      "Uploading Item from IM-0011-0017.dcm\n",
      "Uploading Item from IM-0011-0018.dcm\n",
      "Uploading Item from IM-0011-0019.dcm\n",
      "Uploading Item from IM-0011-0020.dcm\n",
      "Uploading Item from IM-0011-0021.dcm\n",
      "Uploading Item from IM-0011-0022.dcm\n",
      "Uploading Item from IM-0011-0023.dcm\n",
      "Uploading Item from IM-0011-0024.dcm\n",
      "Uploading Item from IM-0011-0025.dcm\n",
      "Uploading Item from IM-0011-0026.dcm\n",
      "Uploading Item from IM-0011-0027.dcm\n",
      "Uploading Item from IM-0011-0028.dcm\n",
      "Uploading Item from IM-0011-0029.dcm\n",
      "Uploading Item from IM-0011-0030.dcm\n",
      "Uploading Item from IM-0011-0031.dcm\n",
      "Uploading Item from IM-0011-0032.dcm\n",
      "Uploading Item from IM-0011-0033.dcm\n",
      "Uploading Item from IM-0011-0034.dcm\n",
      "Uploading Item from IM-0011-0035.dcm\n",
      "Uploading Item from IM-0011-0036.dcm\n",
      "Uploading Item from IM-0011-0037.dcm\n",
      "Uploading Item from IM-0011-0038.dcm\n",
      "Uploading Item from IM-0011-0039.dcm\n",
      "Uploading Item from IM-0011-0040.dcm\n",
      "Uploading Item from IM-0011-0041.dcm\n",
      "Uploading Item from IM-0011-0042.dcm\n",
      "Uploading Item from IM-0011-0043.dcm\n",
      "Uploading Item from IM-0011-0044.dcm\n",
      "Uploading Item from IM-0011-0045.dcm\n",
      "Uploading Item from IM-0011-0046.dcm\n",
      "Uploading Item from IM-0011-0047.dcm\n",
      "Uploading Item from IM-0011-0048.dcm\n",
      "Uploading Item from IM-0011-0049.dcm\n",
      "Uploading Item from IM-0011-0050.dcm\n",
      "Uploading Item from IM-0011-0051.dcm\n",
      "Uploading Item from IM-0011-0052.dcm\n",
      "Uploading Item from IM-0011-0053.dcm\n",
      "Uploading Item from IM-0011-0054.dcm\n",
      "Uploading Item from IM-0011-0055.dcm\n",
      "Uploading Item from IM-0011-0056.dcm\n",
      "Uploading Item from IM-0011-0057.dcm\n",
      "Uploading Item from IM-0011-0058.dcm\n",
      "Uploading Item from IM-0011-0059.dcm\n",
      "Uploading Item from IM-0011-0060.dcm\n",
      "Uploading Item from IM-0011-0061.dcm\n",
      "Uploading Item from IM-0011-0062.dcm\n",
      "Uploading Item from IM-0011-0063.dcm\n",
      "Uploading Item from IM-0011-0064.dcm\n",
      "Uploading Item from IM-0011-0065.dcm\n",
      "Uploading Item from IM-0011-0066.dcm\n",
      "Uploading Item from IM-0011-0067.dcm\n",
      "Uploading Item from IM-0011-0068.dcm\n",
      "Uploading Item from IM-0011-0069.dcm\n",
      "Uploading Item from IM-0011-0070.dcm\n",
      "Uploading Item from IM-0011-0071.dcm\n",
      "Uploading Item from IM-0011-0072.dcm\n",
      "Uploading Item from IM-0011-0073.dcm\n",
      "Uploading Item from IM-0011-0074.dcm\n",
      "Uploading Item from IM-0011-0075.dcm\n",
      "Uploading Item from IM-0011-0076.dcm\n",
      "Uploading Item from IM-0011-0077.dcm\n",
      "Uploading Item from IM-0011-0078.dcm\n",
      "Uploading Item from IM-0011-0079.dcm\n",
      "Uploading Item from IM-0011-0080.dcm\n",
      "Uploading Item from IM-0011-0081.dcm\n",
      "Uploading Item from IM-0011-0082.dcm\n",
      "Uploading Item from IM-0011-0083.dcm\n",
      "Uploading Item from IM-0011-0084.dcm\n",
      "Uploading Item from IM-0011-0085.dcm\n",
      "Uploading Item from IM-0011-0086.dcm\n",
      "Uploading Item from IM-0011-0087.dcm\n",
      "Uploading Item from IM-0011-0088.dcm\n",
      "Uploading Item from IM-0011-0089.dcm\n",
      "Uploading Item from IM-0011-0090.dcm\n",
      "Uploading Item from IM-0011-0091.dcm\n",
      "Uploading Item from IM-0011-0092.dcm\n",
      "Uploading Item from IM-0011-0093.dcm\n",
      "Uploading Item from IM-0011-0094.dcm\n",
      "Uploading Item from IM-0011-0095.dcm\n",
      "Uploading Item from IM-0011-0096.dcm\n",
      "Uploading Item from IM-0011-0097.dcm\n",
      "Uploading Item from IM-0011-0098.dcm\n",
      "Uploading Item from IM-0011-0099.dcm\n",
      "Uploading Item from IM-0011-0100.dcm\n",
      "Uploading Item from IM-0011-0101.dcm\n",
      "Uploading Item from IM-0011-0102.dcm\n",
      "Uploading Item from IM-0011-0103.dcm\n",
      "Uploading Item from IM-0011-0104.dcm\n",
      "Uploading Item from IM-0011-0105.dcm\n",
      "Uploading Item from IM-0011-0106.dcm\n",
      "Uploading Item from IM-0011-0107.dcm\n",
      "Uploading Item from IM-0011-0108.dcm\n",
      "Uploading Item from IM-0011-0109.dcm\n",
      "Uploading Item from IM-0011-0110.dcm\n",
      "Uploading Item from IM-0011-0111.dcm\n",
      "Uploading Item from IM-0011-0112.dcm\n",
      "Uploading Item from IM-0011-0113.dcm\n",
      "Uploading Item from IM-0011-0114.dcm\n",
      "Uploading Item from IM-0011-0115.dcm\n",
      "Uploading Item from IM-0011-0116.dcm\n",
      "Uploading Item from IM-0011-0117.dcm\n",
      "Uploading Item from IM-0011-0118.dcm\n",
      "Uploading Item from IM-0011-0119.dcm\n",
      "Uploading Item from IM-0011-0120.dcm\n",
      "Uploading Item from IM-0011-0121.dcm\n",
      "Uploading Item from IM-0011-0122.dcm\n",
      "Uploading Item from IM-0011-0123.dcm\n",
      "Uploading Item from IM-0011-0124.dcm\n",
      "Uploading Item from IM-0011-0125.dcm\n",
      "Uploading Item from IM-0011-0126.dcm\n",
      "Uploading Item from IM-0011-0127.dcm\n",
      "Uploading Item from IM-0011-0128.dcm\n",
      "Uploading Item from IM-0011-0129.dcm\n",
      "Uploading Item from IM-0011-0130.dcm\n",
      "Uploading Item from IM-0011-0131.dcm\n",
      "Uploading Item from IM-0011-0132.dcm\n",
      "Uploading Item from IM-0011-0133.dcm\n",
      "Uploading Item from IM-0011-0134.dcm\n",
      "Uploading Item from IM-0011-0135.dcm\n",
      "Uploading Item from IM-0011-0136.dcm\n",
      "Uploading Item from IM-0011-0137.dcm\n",
      "Uploading Item from IM-0011-0138.dcm\n",
      "Uploading Item from IM-0011-0139.dcm\n",
      "Uploading Item from IM-0011-0140.dcm\n",
      "Uploading Item from IM-0011-0141.dcm\n",
      "Uploading Item from IM-0011-0142.dcm\n",
      "Uploading Item from IM-0011-0143.dcm\n",
      "Uploading Item from IM-0011-0144.dcm\n",
      "Uploading Item from IM-0011-0145.dcm\n",
      "Uploading Item from IM-0011-0146.dcm\n",
      "Uploading Item from IM-0011-0147.dcm\n",
      "Uploading Item from IM-0011-0148.dcm\n",
      "Uploading Item from IM-0011-0149.dcm\n",
      "Uploading Item from IM-0011-0150.dcm\n",
      "Uploading Item from IM-0011-0151.dcm\n",
      "Uploading Item from IM-0011-0152.dcm\n",
      "Uploading Item from IM-0011-0153.dcm\n",
      "Uploading Item from IM-0011-0154.dcm\n",
      "Uploading Item from IM-0011-0155.dcm\n",
      "Uploading Item from IM-0011-0156.dcm\n",
      "Uploading Item from IM-0011-0157.dcm\n",
      "Uploading Item from IM-0011-0158.dcm\n",
      "Uploading Item from IM-0011-0159.dcm\n",
      "Uploading Item from IM-0011-0160.dcm\n",
      "Uploading Item from IM-0011-0161.dcm\n",
      "Uploading Item from IM-0011-0162.dcm\n",
      "Uploading Item from IM-0011-0163.dcm\n",
      "Uploading Item from IM-0011-0164.dcm\n",
      "Uploading Item from IM-0011-0165.dcm\n",
      "Uploading Item from IM-0011-0166.dcm\n",
      "Uploading Item from IM-0011-0167.dcm\n",
      "Uploading Item from IM-0011-0168.dcm\n",
      "Uploading Item from IM-0011-0169.dcm\n",
      "Uploading Item from IM-0011-0170.dcm\n",
      "Uploading Item from IM-0011-0171.dcm\n",
      "Uploading Item from IM-0011-0172.dcm\n",
      "Uploading Item from IM-0011-0173.dcm\n",
      "Uploading Item from IM-0011-0174.dcm\n",
      "Uploading Item from IM-0011-0175.dcm\n",
      "Uploading Item from IM-0011-0176.dcm\n",
      "Uploading Item from IM-0011-0177.dcm\n",
      "Uploading Item from IM-0011-0178.dcm\n",
      "Uploading Item from IM-0011-0179.dcm\n",
      "Uploading Item from IM-0011-0180.dcm\n",
      "Uploading Item from IM-0011-0181.dcm\n",
      "Uploading Item from IM-0011-0182.dcm\n",
      "Uploading Item from IM-0011-0183.dcm\n",
      "Uploading Item from IM-0011-0184.dcm\n",
      "Uploading Item from IM-0011-0185.dcm\n",
      "Uploading Item from IM-0011-0186.dcm\n",
      "Uploading Item from IM-0011-0187.dcm\n",
      "Uploading Item from IM-0011-0188.dcm\n",
      "Uploading Item from IM-0011-0189.dcm\n",
      "Uploading Item from IM-0011-0190.dcm\n",
      "Uploading Item from IM-0011-0191.dcm\n",
      "Uploading Item from IM-0011-0192.dcm\n",
      "Uploading Item from IM-0011-0193.dcm\n",
      "Uploading Item from IM-0011-0194.dcm\n",
      "Uploading Item from IM-0011-0195.dcm\n",
      "Uploading Item from IM-0011-0196.dcm\n",
      "Uploading Item from IM-0011-0197.dcm\n",
      "Uploading Item from IM-0011-0198.dcm\n",
      "Uploading Item from IM-0011-0199.dcm\n",
      "Uploading Item from IM-0011-0200.dcm\n",
      "Uploading Item from IM-0011-0201.dcm\n",
      "Uploading Item from IM-0011-0202.dcm\n",
      "Uploading Item from IM-0011-0203.dcm\n",
      "Uploading Item from IM-0011-0204.dcm\n",
      "Uploading Item from IM-0011-0205.dcm\n",
      "Uploading Item from IM-0011-0206.dcm\n",
      "Uploading Item from IM-0011-0207.dcm\n",
      "Uploading Item from IM-0011-0208.dcm\n",
      "Uploading Item from IM-0011-0209.dcm\n",
      "Uploading Item from IM-0011-0210.dcm\n",
      "Uploading Item from IM-0011-0211.dcm\n",
      "Uploading Item from IM-0011-0212.dcm\n",
      "Uploading Item from IM-0011-0213.dcm\n",
      "Uploading Item from IM-0011-0214.dcm\n",
      "Uploading Item from IM-0011-0215.dcm\n",
      "Uploading Item from IM-0011-0216.dcm\n",
      "Uploading Item from IM-0011-0217.dcm\n",
      "Uploading Item from IM-0011-0218.dcm\n",
      "Uploading Item from IM-0011-0219.dcm\n",
      "Uploading Item from IM-0011-0220.dcm\n"
     ]
    }
   ],
   "source": [
    "# Specify the API URL of your Girder instance\n",
    "girder_api_url = 'http://192.168.99.100:8080/api/v1/'\n",
    "\n",
    "# Specify the path to the file or folder you wish to upload\n",
    "local_path = '/Users/stuartnelson/Downloads/DICOMSlices'\n",
    "\n",
    "# Specify the unix style path to where you want the file\n",
    "# on girder. Unix path starting with either \"/user/[user name]\", \n",
    "# for a user's resources or \"/collection/[collection name]\",\n",
    "# for resources under a collection.\n",
    "girder_dest_path = 'collection/c'\n",
    "\n",
    "# Provide girder username and password\n",
    "username = 'test'\n",
    "password = '123456'\n",
    "\n",
    "gu = GirderUploader(girder_api_url, username, password)\n",
    "\n",
    "# In this example, we wish to require the user to provide 'Anatomical Region'\n",
    "# metadata, and we want to restrict the bioportal search to the UBERON ontology.\n",
    "gu.request_metadata('Anatomical Region', ['UBERON'], require=True)\n",
    "\n",
    "# We also want to request 'Disease' metadata, restricting the bioportal search\n",
    "# to the DOID ontology, but we do not require this metadata for uploading. \n",
    "gu.request_metadata('Disease', ['DOID'])\n",
    "\n",
    "# A call to upload_folder creates the widgets and waits for the submit button to\n",
    "# be clicked before uploading to girder.\n",
    "gu.upload_folder(girder_dest_path, local_path)"
   ]
  },
  {
   "cell_type": "code",
   "execution_count": 21,
   "metadata": {
    "collapsed": false
   },
   "outputs": [],
   "source": [
    "import ipywidgets as widgets\n",
    "from IPython.display import display\n",
    "text = widgets.Text(description=\"anatomical region\")\n",
    "\n",
    "results = widgets.Select(options = ['...'], description = 'anatomical region results')\n",
    "text.width = 100\n",
    "b = [text, results]\n",
    "flex = widgets.FlexBox(children=b)"
   ]
  },
  {
   "cell_type": "code",
   "execution_count": 22,
   "metadata": {
    "collapsed": false
   },
   "outputs": [],
   "source": [
    "flex.orientation = 'horizontal'\n",
    "flex.align\n",
    "display(flex)"
   ]
  },
  {
   "cell_type": "code",
   "execution_count": 7,
   "metadata": {
    "collapsed": false
   },
   "outputs": [
    {
     "name": "stdout",
     "output_type": "stream",
     "text": [
      "Help on int object:\n",
      "\n",
      "class int(object)\n",
      " |  int(x=0) -> integer\n",
      " |  int(x, base=10) -> integer\n",
      " |  \n",
      " |  Convert a number or string to an integer, or return 0 if no arguments\n",
      " |  are given.  If x is a number, return x.__int__().  For floating point\n",
      " |  numbers, this truncates towards zero.\n",
      " |  \n",
      " |  If x is not a number or if base is given, then x must be a string,\n",
      " |  bytes, or bytearray instance representing an integer literal in the\n",
      " |  given base.  The literal can be preceded by '+' or '-' and be surrounded\n",
      " |  by whitespace.  The base defaults to 10.  Valid bases are 0 and 2-36.\n",
      " |  Base 0 means to interpret the base from the string as an integer literal.\n",
      " |  >>> int('0b100', base=0)\n",
      " |  4\n",
      " |  \n",
      " |  Methods defined here:\n",
      " |  \n",
      " |  __abs__(self, /)\n",
      " |      abs(self)\n",
      " |  \n",
      " |  __add__(self, value, /)\n",
      " |      Return self+value.\n",
      " |  \n",
      " |  __and__(self, value, /)\n",
      " |      Return self&value.\n",
      " |  \n",
      " |  __bool__(self, /)\n",
      " |      self != 0\n",
      " |  \n",
      " |  __ceil__(...)\n",
      " |      Ceiling of an Integral returns itself.\n",
      " |  \n",
      " |  __divmod__(self, value, /)\n",
      " |      Return divmod(self, value).\n",
      " |  \n",
      " |  __eq__(self, value, /)\n",
      " |      Return self==value.\n",
      " |  \n",
      " |  __float__(self, /)\n",
      " |      float(self)\n",
      " |  \n",
      " |  __floor__(...)\n",
      " |      Flooring an Integral returns itself.\n",
      " |  \n",
      " |  __floordiv__(self, value, /)\n",
      " |      Return self//value.\n",
      " |  \n",
      " |  __format__(...)\n",
      " |      default object formatter\n",
      " |  \n",
      " |  __ge__(self, value, /)\n",
      " |      Return self>=value.\n",
      " |  \n",
      " |  __getattribute__(self, name, /)\n",
      " |      Return getattr(self, name).\n",
      " |  \n",
      " |  __getnewargs__(...)\n",
      " |  \n",
      " |  __gt__(self, value, /)\n",
      " |      Return self>value.\n",
      " |  \n",
      " |  __hash__(self, /)\n",
      " |      Return hash(self).\n",
      " |  \n",
      " |  __index__(self, /)\n",
      " |      Return self converted to an integer, if self is suitable for use as an index into a list.\n",
      " |  \n",
      " |  __int__(self, /)\n",
      " |      int(self)\n",
      " |  \n",
      " |  __invert__(self, /)\n",
      " |      ~self\n",
      " |  \n",
      " |  __le__(self, value, /)\n",
      " |      Return self<=value.\n",
      " |  \n",
      " |  __lshift__(self, value, /)\n",
      " |      Return self<<value.\n",
      " |  \n",
      " |  __lt__(self, value, /)\n",
      " |      Return self<value.\n",
      " |  \n",
      " |  __mod__(self, value, /)\n",
      " |      Return self%value.\n",
      " |  \n",
      " |  __mul__(self, value, /)\n",
      " |      Return self*value.\n",
      " |  \n",
      " |  __ne__(self, value, /)\n",
      " |      Return self!=value.\n",
      " |  \n",
      " |  __neg__(self, /)\n",
      " |      -self\n",
      " |  \n",
      " |  __new__(*args, **kwargs) from builtins.type\n",
      " |      Create and return a new object.  See help(type) for accurate signature.\n",
      " |  \n",
      " |  __or__(self, value, /)\n",
      " |      Return self|value.\n",
      " |  \n",
      " |  __pos__(self, /)\n",
      " |      +self\n",
      " |  \n",
      " |  __pow__(self, value, mod=None, /)\n",
      " |      Return pow(self, value, mod).\n",
      " |  \n",
      " |  __radd__(self, value, /)\n",
      " |      Return value+self.\n",
      " |  \n",
      " |  __rand__(self, value, /)\n",
      " |      Return value&self.\n",
      " |  \n",
      " |  __rdivmod__(self, value, /)\n",
      " |      Return divmod(value, self).\n",
      " |  \n",
      " |  __repr__(self, /)\n",
      " |      Return repr(self).\n",
      " |  \n",
      " |  __rfloordiv__(self, value, /)\n",
      " |      Return value//self.\n",
      " |  \n",
      " |  __rlshift__(self, value, /)\n",
      " |      Return value<<self.\n",
      " |  \n",
      " |  __rmod__(self, value, /)\n",
      " |      Return value%self.\n",
      " |  \n",
      " |  __rmul__(self, value, /)\n",
      " |      Return value*self.\n",
      " |  \n",
      " |  __ror__(self, value, /)\n",
      " |      Return value|self.\n",
      " |  \n",
      " |  __round__(...)\n",
      " |      Rounding an Integral returns itself.\n",
      " |      Rounding with an ndigits argument also returns an integer.\n",
      " |  \n",
      " |  __rpow__(self, value, mod=None, /)\n",
      " |      Return pow(value, self, mod).\n",
      " |  \n",
      " |  __rrshift__(self, value, /)\n",
      " |      Return value>>self.\n",
      " |  \n",
      " |  __rshift__(self, value, /)\n",
      " |      Return self>>value.\n",
      " |  \n",
      " |  __rsub__(self, value, /)\n",
      " |      Return value-self.\n",
      " |  \n",
      " |  __rtruediv__(self, value, /)\n",
      " |      Return value/self.\n",
      " |  \n",
      " |  __rxor__(self, value, /)\n",
      " |      Return value^self.\n",
      " |  \n",
      " |  __sizeof__(...)\n",
      " |      Returns size in memory, in bytes\n",
      " |  \n",
      " |  __str__(self, /)\n",
      " |      Return str(self).\n",
      " |  \n",
      " |  __sub__(self, value, /)\n",
      " |      Return self-value.\n",
      " |  \n",
      " |  __truediv__(self, value, /)\n",
      " |      Return self/value.\n",
      " |  \n",
      " |  __trunc__(...)\n",
      " |      Truncating an Integral returns itself.\n",
      " |  \n",
      " |  __xor__(self, value, /)\n",
      " |      Return self^value.\n",
      " |  \n",
      " |  bit_length(...)\n",
      " |      int.bit_length() -> int\n",
      " |      \n",
      " |      Number of bits necessary to represent self in binary.\n",
      " |      >>> bin(37)\n",
      " |      '0b100101'\n",
      " |      >>> (37).bit_length()\n",
      " |      6\n",
      " |  \n",
      " |  conjugate(...)\n",
      " |      Returns self, the complex conjugate of any int.\n",
      " |  \n",
      " |  from_bytes(...) from builtins.type\n",
      " |      int.from_bytes(bytes, byteorder, *, signed=False) -> int\n",
      " |      \n",
      " |      Return the integer represented by the given array of bytes.\n",
      " |      \n",
      " |      The bytes argument must be a bytes-like object (e.g. bytes or bytearray).\n",
      " |      \n",
      " |      The byteorder argument determines the byte order used to represent the\n",
      " |      integer.  If byteorder is 'big', the most significant byte is at the\n",
      " |      beginning of the byte array.  If byteorder is 'little', the most\n",
      " |      significant byte is at the end of the byte array.  To request the native\n",
      " |      byte order of the host system, use `sys.byteorder' as the byte order value.\n",
      " |      \n",
      " |      The signed keyword-only argument indicates whether two's complement is\n",
      " |      used to represent the integer.\n",
      " |  \n",
      " |  to_bytes(...)\n",
      " |      int.to_bytes(length, byteorder, *, signed=False) -> bytes\n",
      " |      \n",
      " |      Return an array of bytes representing an integer.\n",
      " |      \n",
      " |      The integer is represented using length bytes.  An OverflowError is\n",
      " |      raised if the integer is not representable with the given number of\n",
      " |      bytes.\n",
      " |      \n",
      " |      The byteorder argument determines the byte order used to represent the\n",
      " |      integer.  If byteorder is 'big', the most significant byte is at the\n",
      " |      beginning of the byte array.  If byteorder is 'little', the most\n",
      " |      significant byte is at the end of the byte array.  To request the native\n",
      " |      byte order of the host system, use `sys.byteorder' as the byte order value.\n",
      " |      \n",
      " |      The signed keyword-only argument determines whether two's complement is\n",
      " |      used to represent the integer.  If signed is False and a negative integer\n",
      " |      is given, an OverflowError is raised.\n",
      " |  \n",
      " |  ----------------------------------------------------------------------\n",
      " |  Data descriptors defined here:\n",
      " |  \n",
      " |  denominator\n",
      " |      the denominator of a rational number in lowest terms\n",
      " |  \n",
      " |  imag\n",
      " |      the imaginary part of a complex number\n",
      " |  \n",
      " |  numerator\n",
      " |      the numerator of a rational number in lowest terms\n",
      " |  \n",
      " |  real\n",
      " |      the real part of a complex number\n",
      "\n"
     ]
    }
   ],
   "source": [
    "help(widgets.FlexBox().flex)"
   ]
  },
  {
   "cell_type": "code",
   "execution_count": null,
   "metadata": {
    "collapsed": true
   },
   "outputs": [],
   "source": []
  },
  {
   "cell_type": "code",
   "execution_count": null,
   "metadata": {
    "collapsed": true
   },
   "outputs": [],
   "source": []
  }
 ],
 "metadata": {
  "kernelspec": {
   "display_name": "Python 3",
   "language": "python",
   "name": "python3"
  },
  "language_info": {
   "codemirror_mode": {
    "name": "ipython",
    "version": 3
   },
   "file_extension": ".py",
   "mimetype": "text/x-python",
   "name": "python",
   "nbconvert_exporter": "python",
   "pygments_lexer": "ipython3",
   "version": "3.5.1"
  },
  "widgets": {
   "state": {
    "0624634259bc4a28bdc9461ed2b846bb": {
     "views": [
      {
       "cell_index": 1
      }
     ]
    },
    "1421fb5c217447689cb188938d84c31c": {
     "views": [
      {
       "cell_index": 1
      }
     ]
    },
    "212ae4a6cca34710a4319e7ce645a24e": {
     "views": [
      {
       "cell_index": 1
      }
     ]
    },
    "4be77d22e54e43f7a233e35dc5ea2921": {
     "views": [
      {
       "cell_index": 1
      }
     ]
    },
    "5ab10cfb33f94d94a28dee50beffb0fc": {
     "views": [
      {
       "cell_index": 1
      }
     ]
    },
    "5d932293c7ea453b806fe97326796a9a": {
     "views": [
      {
       "cell_index": 1
      }
     ]
    },
    "786ab26950ed4d19b867152875bd96b7": {
     "views": [
      {
       "cell_index": 1
      }
     ]
    },
    "7a0f4c59a2e747d9922f37098290916e": {
     "views": [
      {
       "cell_index": 1
      }
     ]
    },
    "8aa84aa5a67f4189bffbd95519ec136e": {
     "views": [
      {
       "cell_index": 1
      }
     ]
    },
    "a6f9c190ebaa4503a6fc86ee810b9283": {
     "views": [
      {
       "cell_index": 1
      }
     ]
    },
    "bcb6ae4a44744aef8bac5dc4940803d1": {
     "views": [
      {
       "cell_index": 1
      }
     ]
    },
    "c0912851d7014cc88550775a0d007b63": {
     "views": [
      {
       "cell_index": 1
      }
     ]
    },
    "c2b6311900354ff8bccb16689707b641": {
     "views": [
      {
       "cell_index": 1
      }
     ]
    },
    "c45e214f4ead465b81a95b788d2c5f5c": {
     "views": [
      {
       "cell_index": 1
      }
     ]
    },
    "d69fcdb3806742deb091746b71903b53": {
     "views": [
      {
       "cell_index": 1
      }
     ]
    },
    "e29f6921fd0b40529a4ccc6b0193d585": {
     "views": [
      {
       "cell_index": 1
      }
     ]
    },
    "ec38d2710a3d42778f7d8f9b92d481dd": {
     "views": [
      {
       "cell_index": 1
      }
     ]
    },
    "f40ab69a0a74438b9c62779d5e10edaa": {
     "views": [
      {
       "cell_index": 1
      }
     ]
    },
    "f589c8e2fbcd48aba498ec847fd37225": {
     "views": [
      {
       "cell_index": 1
      }
     ]
    }
   },
   "version": "1.2.0"
  }
 },
 "nbformat": 4,
 "nbformat_minor": 0
}
